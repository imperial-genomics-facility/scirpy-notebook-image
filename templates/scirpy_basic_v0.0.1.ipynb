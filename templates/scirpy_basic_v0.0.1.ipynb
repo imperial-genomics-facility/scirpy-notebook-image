{
 "cells": [
  {
   "cell_type": "markdown",
   "metadata": {},
   "source": [
    "# Single cell TCR/RNA-seq data analysis using Scirpy\n",
    "\n",
    "* __Notebook version__: `v0.0.1`\n",
    "* __Created by:__ `Imperial BRC Genomics Facility`\n",
    "* __Maintained by:__ `Imperial BRC Genomics Facility`\n",
    "* __Docker image:__ `imperialgenomicsfacility/scirpy-notebook-image:release-v0.0.1`\n",
    "* __Github repository:__ [imperial-genomics-facility/scirpy-notebook-image](https://github.com/imperial-genomics-facility/scirpy-notebook-image)\n",
    "* __Created on:__ {{ DATE_TAG }}\n",
    "* __Contact us:__ [Imperial BRC Genomics Facility](https://www.imperial.ac.uk/medicine/research-and-impact/facilities/genomics-facility/contact/)\n",
    "* __License:__ [Apache License 2.0](https://github.com/imperial-genomics-facility/scirpy-notebook-image/blob/master/LICENSE)\n",
    "* __Project name:__ {{ PROJECT_IGF_ID }}\n",
    "{% if SAMPLE_IGF_ID %}* __Sample name:__ {{ SAMPLE_IGF_ID }}{% endif %}\n",
    "\n",
    "## Table of contents\n",
    "\n",
    "* [Introduction](#Introduction)\n",
    "* [Tools required](#Tools-required)\n",
    "* [Input parameters](#Input-parameters)\n",
    "* [Loading required libraries](#Loading-required-libraries)\n",
    "* [Reading data from Cellranger output](#Reading-data-from-Cellranger-output)\n",
    "* [Data processing and QC](#Data-processing-and-QC)\n",
    "  * [Checking highly variable genes](#Checking-highly-variable-genes)\n",
    "  * [Computing metrics for cell QC](#Computing-metrics-for-cell-QC)\n",
    "  * [Ploting MT gene fractions](#Ploting-MT-gene-fractions)\n",
    "  * [Counting cells per gene](#Counting-cells-per-gene)\n",
    "  * [Plotting count depth vs MT fraction](#Plotting-count-depth-vs-MT-fraction)\n",
    "  * [Checking thresholds and filtering data](#Checking-thresholds-and-filtering-data)\n",
    "* [Gene expression data analysis](#Gene-expression-data-analysis)\n",
    "  * [Normalization](#Normalization)\n",
    "  * [Highly variable genes](#Highly-variable-genes)\n",
    "  * [Regressing out technical effects](#Regressing-out-technical-effects)\n",
    "  * [Principal component analysis](#Principal-component-analysis)\n",
    "  * [Neighborhood graph](#Neighborhood-graph)\n",
    "    * [Clustering the neighborhood graph](#Clustering-the-neighborhood-graph)\n",
    "    * [Embed the neighborhood graph using 2D UMAP](#Embed-the-neighborhood-graph-using-2D-UMAP)\n",
    "  * [Finding marker genes](#Finding-marker-genes)\n",
    "  * [Cell annotation](#Cell-annotation)\n",
    "* [VDJ data analysis](#VDJ-data-analysis)\n",
    "  * [TCR quality control](#TCR-quality-control)\n",
    "  * [Compute CDR3 neighborhood graph and define clonotypes](#Compute-CDR3-neighborhood-graph-and-define-clonotypes)\n",
    "  * [Re-compute CDR3 neighborhood graph and define clonotype clusters](#Re-compute-CDR3-neighborhood-graph-and-define-clonotype-clusters)\n",
    "  * [Including the V-gene in clonotype definition](#Including-the-V-gene-in-clonotype-definition)\n",
    "  * [Clonotype analysis](#Clonotype-analysis)\n",
    "    * [Clonal expansion](#Clonal-expansion)\n",
    "    * [Clonotype abundance](#Clonotype-abundance)\n",
    "  * [Gene usage](#Gene-usage)\n",
    "  * [Spectratype plots](#Spectratype-plots)\n",
    "\n",
    "\n",
    "## Introduction\n",
    "This notebook for running single cell TCR/RNA-seq data analysis (for a single sample) using Scirpy and Scanpy package. Most of the codes and documentation used in this notebook has been copied from the following sources:\n",
    "\n",
    "* [Analysis of 3k T cells from cancer](https://icbi-lab.github.io/scirpy/tutorials/tutorial_3k_tcr.html)\n",
    "* [Scanpy - Preprocessing and clustering 3k PBMCs](https://scanpy-tutorials.readthedocs.io/en/latest/pbmc3k.html)\n",
    "* [Single-cell-tutorial](https://github.com/theislab/single-cell-tutorial)\n",
    "\n",
    "## Tools required\n",
    "* [Scirpy](https://icbi-lab.github.io/scirpy/index.html)\n",
    "* [Scanpy](https://scanpy-tutorials.readthedocs.io/en/latest)\n",
    "* [Plotly](https://plotly.com/python/)\n",
    "* [UCSC Cell Browser](https://pypi.org/project/cellbrowser/)\n",
    "\n",
    "## Input parameters"
   ]
  },
  {
   "cell_type": "code",
   "execution_count": null,
   "metadata": {},
   "outputs": [],
   "source": [
    "cell_ranger_count_path = '{{ CELLRANGER_COUNT_DIR }}'\n",
    "cell_ranger_vdj_path = '{{ CELLRANGER_VDJ_DIR }}'\n",
    "cell_marker_list = '{{ CELL_MARKER_LIST }}'\n",
    "genome_build = '{{ GENOME_BUILD }}'"
   ]
  },
  {
   "cell_type": "markdown",
   "metadata": {},
   "source": [
    "<div align=\"right\"><a href=\"#Table-of-contents\">Go to TOC</a></div>\n",
    "\n",
    "## Loading required libraries\n",
    "\n",
    "We need  to load all the required libraries to environment before we can run any of the analysis steps. Also, we are checking the version information for most of the major packages used for analysis."
   ]
  },
  {
   "cell_type": "code",
   "execution_count": null,
   "metadata": {},
   "outputs": [],
   "source": [
    "%matplotlib inline\n",
    "import os\n",
    "import numpy as np\n",
    "import pandas as pd\n",
    "import scanpy as sc\n",
    "import scirpy as ir\n",
    "import seaborn as sns\n",
    "from matplotlib import pyplot as plt\n",
    "sns.set_theme(context='notebook', style='darkgrid', palette='colorblind')"
   ]
  },
  {
   "cell_type": "markdown",
   "metadata": {},
   "source": [
    "<div align=\"right\"><a href=\"#Table-of-contents\">Go to TOC</a></div>\n",
    "\n",
    "## Reading data from Cellranger output\n",
    "\n",
    "Load the Cellranger VDJ output to Scanpy"
   ]
  },
  {
   "cell_type": "code",
   "execution_count": null,
   "metadata": {},
   "outputs": [],
   "source": [
    "adata_tcr = \\\n",
    "  ir.io.read_10x_vdj(os.path.join(cell_ranger_vdj_path,\"filtered_contig_annotations.csv\"))"
   ]
  },
  {
   "cell_type": "markdown",
   "metadata": {},
   "source": [
    "Load the Cellranger output to Scanpy"
   ]
  },
  {
   "cell_type": "code",
   "execution_count": null,
   "metadata": {},
   "outputs": [],
   "source": [
    "adata = \\\n",
    "  sc.read_10x_h5(os.path.join(cell_ranger_count_path,\"filtered_feature_bc_matrix.h5\"))"
   ]
  },
  {
   "cell_type": "markdown",
   "metadata": {},
   "source": [
    "Converting the gene names to unique values"
   ]
  },
  {
   "cell_type": "code",
   "execution_count": null,
   "metadata": {},
   "outputs": [],
   "source": [
    "adata.var_names_make_unique()"
   ]
  },
  {
   "cell_type": "code",
   "execution_count": null,
   "metadata": {},
   "outputs": [],
   "source": [
    "adata_tcr.shape"
   ]
  },
  {
   "cell_type": "markdown",
   "metadata": {},
   "source": [
    "Checking the data dimensions before checking QC"
   ]
  },
  {
   "cell_type": "code",
   "execution_count": null,
   "metadata": {},
   "outputs": [],
   "source": [
    "adata.shape"
   ]
  },
  {
   "cell_type": "code",
   "execution_count": null,
   "metadata": {},
   "outputs": [],
   "source": [
    "ir.pp.merge_with_ir(adata, adata_tcr)"
   ]
  },
  {
   "cell_type": "markdown",
   "metadata": {},
   "source": [
    "Scanpy stores the count data is an annotated data matrix ($observations$ e.g. cell barcodes × $variables$ e.g gene names) called [AnnData](https://anndata.readthedocs.io) together with annotations of observations($obs$), variables ($var$) and unstructured annotations ($uns$)"
   ]
  },
  {
   "cell_type": "code",
   "execution_count": null,
   "metadata": {},
   "outputs": [],
   "source": [
    "adata.obs.head()"
   ]
  },
  {
   "cell_type": "code",
   "execution_count": null,
   "metadata": {},
   "outputs": [],
   "source": [
    "adata.var.head()"
   ]
  },
  {
   "cell_type": "markdown",
   "metadata": {},
   "source": [
    "<div align=\"right\"><a href=\"#Table-of-contents\">Go to TOC</a></div>\n",
    "\n",
    "## Data processing and QC\n",
    "\n",
    "### Checking highly variable genes\n",
    "\n",
    "Computing fraction of counts assigned to each gene over all cells. The top genes with the highest mean fraction over all cells are\n",
    "plotted as boxplots."
   ]
  },
  {
   "cell_type": "code",
   "execution_count": null,
   "metadata": {},
   "outputs": [],
   "source": [
    "fig,ax = plt.subplots(1,1,figsize=(10,8))\n",
    "sc.pl.highest_expr_genes(adata, n_top=20,ax=ax)"
   ]
  },
  {
   "cell_type": "markdown",
   "metadata": {},
   "source": [
    "<div align=\"right\"><a href=\"#Table-of-contents\">Go to TOC</a></div>\n",
    "\n",
    "### Computing metrics for cell QC\n",
    "\n",
    "Listing the Mitochondrial genes detected in the cell population"
   ]
  },
  {
   "cell_type": "code",
   "execution_count": null,
   "metadata": {},
   "outputs": [],
   "source": [
    "mt_genes = 0\n",
    "mt_genes = [gene for gene in adata.var_names if gene.startswith('MT-')]\n",
    "mito_genes = adata.var_names.str.startswith('MT-')\n",
    "if len(mt_genes)==0:\n",
    "    print('Looking for mito genes with \"mt-\" prefix')\n",
    "    mt_genes = [gene for gene in adata.var_names if gene.startswith('mt-')]\n",
    "    mito_genes = adata.var_names.str.startswith('mt-')\n",
    "\n",
    "if len(mt_genes)==0:\n",
    "    print(\"No mitochondrial genes found\")\n",
    "else:\n",
    "    print(\"Mitochondrial genes: count: {0}, lists: {1}\".format(len(mt_genes),mt_genes))"
   ]
  },
  {
   "cell_type": "markdown",
   "metadata": {},
   "source": [
    "Typical quality measures for assessing the quality of a cell includes the following components\n",
    "* Number of molecule counts (UMIs or $n\\_counts$ )\n",
    "* Number of expressed genes ($n\\_genes$)\n",
    "* Fraction of counts that are mitochondrial ($percent\\_mito$)\n",
    "\n",
    "We are calculating the above mentioned details using the following codes"
   ]
  },
  {
   "cell_type": "code",
   "execution_count": null,
   "metadata": {},
   "outputs": [],
   "source": [
    "adata.obs['mito_counts'] =  np.sum(adata[:, mito_genes].X, axis=1).A1\n",
    "adata.obs['percent_mito'] = \\\n",
    "  np.sum(adata[:, mito_genes].X, axis=1).A1 / np.sum(adata.X, axis=1).A1\n",
    "adata.obs['n_counts'] = adata.X.sum(axis=1).A1\n",
    "adata.obs['log_counts'] = np.log(adata.obs['n_counts'])\n",
    "adata.obs['n_genes'] = (adata.X > 0).sum(1)"
   ]
  },
  {
   "cell_type": "markdown",
   "metadata": {},
   "source": [
    "Checking $obs$ section of the AnnData object again"
   ]
  },
  {
   "cell_type": "code",
   "execution_count": null,
   "metadata": {},
   "outputs": [],
   "source": [
    "adata.obs.head()"
   ]
  },
  {
   "cell_type": "markdown",
   "metadata": {},
   "source": [
    "Sorting barcodes based on the $percent\\_mito$ column"
   ]
  },
  {
   "cell_type": "code",
   "execution_count": null,
   "metadata": {},
   "outputs": [],
   "source": [
    "adata.obs.sort_values('percent_mito',ascending=False).head()"
   ]
  },
  {
   "cell_type": "markdown",
   "metadata": {},
   "source": [
    "A high fraction of mitochondrial reads being picked up can indicate cell stress, as there is a low proportion of nuclear mRNA in the cell. It should be noted that high mitochondrial RNA fractions can also be biological signals indicating elevated respiration. <p/>\n",
    "\n",
    "Cell barcodes with high count depth, few detected genes and high fraction of mitochondrial counts may indicate cells whose cytoplasmic mRNA has leaked out due to a broaken membrane and only the mRNA located in the mitochrondia has survived. <p/>\n",
    "\n",
    "Cells with high UMI counts and detected genes may represent dublets (it requires further checking).\n",
    "\n",
    "<div align=\"right\"><a href=\"#Table-of-contents\">Go to TOC</a></div>\n",
    "\n",
    "### Ploting MT gene fractions"
   ]
  },
  {
   "cell_type": "code",
   "execution_count": null,
   "metadata": {},
   "outputs": [],
   "source": [
    "plt.rcParams['figure.figsize']=(10,8)\n",
    "sc.pl.violin(\\\n",
    "  adata,\n",
    "  ['n_genes', 'n_counts', 'percent_mito'],\n",
    "  jitter=0.4,\n",
    "  log=True,\n",
    "  stripplot=True,\n",
    "  show=False,\n",
    "  multi_panel=False)"
   ]
  },
  {
   "cell_type": "markdown",
   "metadata": {},
   "source": [
    "Violin plot (above) shows the computed quality measures of UMI counts, gene counts and fraction of mitochondrial counts."
   ]
  },
  {
   "cell_type": "code",
   "execution_count": null,
   "metadata": {},
   "outputs": [],
   "source": [
    "plt.rcParams['figure.figsize']=(10,8)\n",
    "ax = sc.pl.scatter(adata, 'n_counts', 'n_genes', color='percent_mito',show=False)\n",
    "ax.set_title('Fraction mitochondrial counts', fontsize=12)\n",
    "ax.set_xlabel(\"Count depth\",fontsize=12)\n",
    "ax.set_ylabel(\"Number of genes\",fontsize=12)\n",
    "ax.tick_params(labelsize=12)\n",
    "ax.axhline(500, 0,1, color='red')\n",
    "ax.axvline(1000, 0,1, color='red')"
   ]
  },
  {
   "cell_type": "markdown",
   "metadata": {},
   "source": [
    "The above scatter plot shows number of genes vs number of counts with $MT$ fraction information. We will be using a cutoff of 1000 counts and 500 genes (<span style=\"color:red\">red lines</span>) to filter out dying cells. "
   ]
  },
  {
   "cell_type": "code",
   "execution_count": null,
   "metadata": {},
   "outputs": [],
   "source": [
    "ax = sc.pl.scatter(adata[adata.obs['n_counts']<10000], 'n_counts', 'n_genes', color='percent_mito',show=False)\n",
    "ax.set_title('Fraction mitochondrial counts', fontsize=12)\n",
    "ax.set_xlabel(\"Count depth\",fontsize=12)\n",
    "ax.set_ylabel(\"Number of genes\",fontsize=12)\n",
    "ax.tick_params(labelsize=12)\n",
    "ax.axhline(500, 0,1, color='red')\n",
    "ax.axvline(1000, 0,1, color='red')"
   ]
  },
  {
   "cell_type": "markdown",
   "metadata": {},
   "source": [
    "<div align=\"right\"><a href=\"#Table-of-contents\">Go to TOC</a></div>\n",
    "\n",
    "### Counting cells per gene"
   ]
  },
  {
   "cell_type": "code",
   "execution_count": null,
   "metadata": {},
   "outputs": [],
   "source": [
    "adata.var['cells_per_gene'] = np.sum(adata.X > 0, 0).T\n",
    "\n",
    "ax = sns.histplot(adata.var['cells_per_gene'][adata.var['cells_per_gene'] < 100], kde=False, bins=60)\n",
    "ax.set_xlabel(\"Number of cells\",fontsize=12)\n",
    "ax.set_ylabel(\"Frequency\",fontsize=12)\n",
    "ax.set_title('Cells per gene', fontsize=12)\n",
    "ax.tick_params(labelsize=12)"
   ]
  },
  {
   "cell_type": "markdown",
   "metadata": {},
   "source": [
    "<div align=\"right\"><a href=\"#Table-of-contents\">Go to TOC</a></div>\n",
    "\n",
    "### Plotting count depth vs MT fraction\n",
    "\n",
    "The scatter plot showing the count depth vs MT fraction counts and the <span style=\"color:red\">red line</span> shows the default cutoff value for MT fraction 0.2"
   ]
  },
  {
   "cell_type": "code",
   "execution_count": null,
   "metadata": {},
   "outputs": [],
   "source": [
    "ax = sc.pl.scatter(adata, x='n_counts', y='percent_mito',show=False)\n",
    "ax.set_title('Count depth vs Fraction mitochondrial counts', fontsize=12)\n",
    "ax.set_xlabel(\"Count depth\",fontsize=12)\n",
    "ax.set_ylabel(\"Fraction mitochondrial counts\",fontsize=12)\n",
    "ax.tick_params(labelsize=12)\n",
    "ax.axhline(0.2, 0,1, color='red')"
   ]
  },
  {
   "cell_type": "markdown",
   "metadata": {},
   "source": [
    "<div align=\"right\"><a href=\"#Table-of-contents\">Go to TOC</a></div>\n",
    "\n",
    "### Checking thresholds and filtering data\n",
    "\n",
    "Now we need to filter the cells which doesn't match our thresholds."
   ]
  },
  {
   "cell_type": "code",
   "execution_count": null,
   "metadata": {},
   "outputs": [],
   "source": [
    "min_counts_threshold = 1000\n",
    "max_counts_threshold = 50000\n",
    "min_gene_counts_threshold = 500\n",
    "max_mito_pct_threshold = 0.2\n",
    "\n",
    "if adata[adata.obs['n_counts'] > min_counts_threshold].n_obs < 1000:\n",
    "    min_counts_threshold = 100\n",
    "\n",
    "if adata[adata.obs['n_counts'] < max_counts_threshold].n_obs < 1000:\n",
    "    max_counts_threshold = 80000\n",
    "    \n",
    "if adata[adata.obs['n_genes'] > min_gene_counts_threshold].n_obs < 1000:\n",
    "    min_gene_counts_threshold = 100\n",
    "    \n",
    "if adata[adata.obs['percent_mito'] < max_mito_pct_threshold].n_obs < 1000:\n",
    "    max_mito_pct_threshold = 0.5\n"
   ]
  },
  {
   "cell_type": "code",
   "execution_count": null,
   "metadata": {},
   "outputs": [],
   "source": [
    "if min_counts_threshold != 1000 or min_gene_counts_threshold!= 500:\n",
    "  print(\"Resetting the thresholds\")\n",
    "  ax = sc.pl.scatter(adata, 'n_counts', 'n_genes', color='percent_mito',show=False)\n",
    "  ax.set_title('Fraction mitochondrial counts', fontsize=12)\n",
    "  ax.set_xlabel(\"Count depth\",fontsize=12)\n",
    "  ax.set_ylabel(\"Number of genes\",fontsize=12)\n",
    "  ax.tick_params(labelsize=12)\n",
    "  ax.axhline(min_gene_counts_threshold, 0,1, color='red')\n",
    "  ax.axvline(min_counts_threshold, 0,1, color='red')"
   ]
  },
  {
   "cell_type": "code",
   "execution_count": null,
   "metadata": {},
   "outputs": [],
   "source": [
    "print('Total number of cells: {0}'.format(adata.n_obs))\n",
    "print('Filtering dataset using thresholds')\n",
    "\n",
    "sc.pp.filter_cells(adata, min_counts = min_counts_threshold)\n",
    "print('Number of cells after min count ({0}) filter: {1}'.format(min_counts_threshold,adata.n_obs))\n",
    "\n",
    "sc.pp.filter_cells(adata, max_counts = max_counts_threshold)\n",
    "print('Number of cells after max count ({0}) filter: {1}'.format(max_counts_threshold,adata.n_obs))\n",
    "\n",
    "sc.pp.filter_cells(adata, min_genes = min_gene_counts_threshold)\n",
    "print('Number of cells after gene ({0}) filter: {1}'.format(min_gene_counts_threshold,adata.n_obs))\n",
    "\n",
    "adata = adata[adata.obs['percent_mito'] < max_mito_pct_threshold]\n",
    "print('Number of cells after MT fraction ({0}) filter: {1}'.format(max_mito_pct_threshold,adata.n_obs))\n",
    "\n",
    "print('Total number of cells after filtering: {0}'.format(adata.n_obs))"
   ]
  },
  {
   "cell_type": "markdown",
   "metadata": {},
   "source": [
    "Also, we need to filter out any genes that are detected in only less than 20 cells. This operation reduces the dimensions of the matrix by removing zero count genes which are not really informative."
   ]
  },
  {
   "cell_type": "code",
   "execution_count": null,
   "metadata": {},
   "outputs": [],
   "source": [
    "min_cell_per_gene_threshold = 20\n",
    "\n",
    "print('Total number of genes: {0}'.format(adata.n_vars))\n",
    "\n",
    "sc.pp.filter_genes(adata, min_cells=min_cell_per_gene_threshold)\n",
    "print('Number of genes after cell filter: {0}'.format(adata.n_vars))"
   ]
  },
  {
   "cell_type": "markdown",
   "metadata": {},
   "source": [
    "<div align=\"right\"><a href=\"#Table-of-contents\">Go to TOC</a></div>\n",
    "\n",
    "## Gene expression data analysis\n",
    "\n",
    "### Normalization\n",
    "\n",
    "We are using a simple total-count based normalization (library-size correct) to transform the data matrix $X$ to 10,000 reads per cell, so that counts become comparable among cells."
   ]
  },
  {
   "cell_type": "code",
   "execution_count": null,
   "metadata": {},
   "outputs": [],
   "source": [
    "sc.pp.normalize_total(adata, target_sum=1e4)"
   ]
  },
  {
   "cell_type": "markdown",
   "metadata": {},
   "source": [
    "Then logarithmize the data matrix"
   ]
  },
  {
   "cell_type": "code",
   "execution_count": null,
   "metadata": {},
   "outputs": [],
   "source": [
    "sc.pp.log1p(adata)"
   ]
  },
  {
   "cell_type": "markdown",
   "metadata": {},
   "source": [
    "Copying the normalized and logarithmized raw gene expression data to the .raw attribute of the AnnData object for later use."
   ]
  },
  {
   "cell_type": "code",
   "execution_count": null,
   "metadata": {},
   "outputs": [],
   "source": [
    "adata.raw = adata"
   ]
  },
  {
   "cell_type": "markdown",
   "metadata": {},
   "source": [
    "<div align=\"right\"><a href=\"#Table-of-contents\">Go to TOC</a></div>\n",
    "\n",
    "### Highly variable genes\n",
    "\n",
    "Following codes blocks are used to identify the highly variable genes (HGV) to further reduce the dimensionality of the dataset and to include only the most informative genes. HGVs will be used for clustering, trajectory inference, and dimensionality reduction/visualization.\n",
    "\n",
    "We use a 'seurat' flavor based HGV detection step. Then, we run the following codes to do the actual filtering of data. The plots show how the data was normalized to select highly variable genes irrespective of the mean expression of the genes. This is achieved by using the index of dispersion which divides by mean expression, and subsequently binning the data by mean expression and selecting the most variable genes within each bin."
   ]
  },
  {
   "cell_type": "code",
   "execution_count": null,
   "metadata": {},
   "outputs": [],
   "source": [
    "plt.rcParams['figure.figsize']=(7,7)\n",
    "sc.pp.highly_variable_genes(adata, flavor='seurat', min_mean=0.0125, max_mean=3, min_disp=0.5)\n",
    "seurat_hgv = np.sum(adata.var['highly_variable'])\n",
    "print(\"Counts of HGVs: {0}\".format(seurat_hgv))\n",
    "sc.pl.highly_variable_genes(adata)"
   ]
  },
  {
   "cell_type": "code",
   "execution_count": null,
   "metadata": {},
   "outputs": [],
   "source": [
    "adata = adata[:, adata.var.highly_variable]"
   ]
  },
  {
   "cell_type": "markdown",
   "metadata": {},
   "source": [
    "<div align=\"right\"><a href=\"#Table-of-contents\">Go to TOC</a></div>\n",
    "\n",
    "### Regressing out technical effects\n",
    "\n",
    "Normalization scales count data to make gene counts comparable between cells. But it still contain unwanted variability. One of the most prominent technical covariates in single-cell data is count depth. Regress out effects of total counts per cell and the percentage of mitochondrial genes expressed can improve the performance of trajectory inference algorithms."
   ]
  },
  {
   "cell_type": "code",
   "execution_count": null,
   "metadata": {},
   "outputs": [],
   "source": [
    "sc.pp.regress_out(adata, ['n_counts', 'percent_mito'])"
   ]
  },
  {
   "cell_type": "markdown",
   "metadata": {},
   "source": [
    "Scale each gene to unit variance. Clip values exceeding standard deviation 10."
   ]
  },
  {
   "cell_type": "code",
   "execution_count": null,
   "metadata": {},
   "outputs": [],
   "source": [
    "sc.pp.scale(adata, max_value=10)"
   ]
  },
  {
   "cell_type": "markdown",
   "metadata": {},
   "source": [
    "<div align=\"right\"><a href=\"#Table-of-contents\">Go to TOC</a></div>\n",
    "\n",
    "### Principal component analysis\n",
    "\n",
    "Reduce the dimensionality of the data by running principal component analysis (PCA), which reveals the main axes of variation and denoises the data."
   ]
  },
  {
   "cell_type": "code",
   "execution_count": null,
   "metadata": {},
   "outputs": [],
   "source": [
    "sc.tl.pca(adata, svd_solver='arpack')\n",
    "plt.rcParams['figure.figsize']=(10,8)\n",
    "sc.pl.pca(adata,color=[adata.var_names[0]])"
   ]
  },
  {
   "cell_type": "markdown",
   "metadata": {},
   "source": [
    "Let us inspect the contribution of single PCs to the total variance in the data. This gives us information about how many PCs we should consider in order to compute the neighborhood relations of cells.\n",
    "\n",
    "The first principle component captures variation in count depth between cells and its marginally informative."
   ]
  },
  {
   "cell_type": "code",
   "execution_count": null,
   "metadata": {},
   "outputs": [],
   "source": [
    "sc.pl.pca_variance_ratio(adata, log=True)"
   ]
  },
  {
   "cell_type": "markdown",
   "metadata": {},
   "source": [
    "Let us compute the neighborhood graph of cells using the PCA representation of the data matrix.\n",
    "\n",
    "<div align=\"right\"><a href=\"#Table-of-contents\">Go to TOC</a></div>\n",
    "\n",
    "### Neighborhood graph\n",
    "Computing the neighborhood graph of cells using the PCA representation of the data matrix."
   ]
  },
  {
   "cell_type": "code",
   "execution_count": null,
   "metadata": {},
   "outputs": [],
   "source": [
    "sc.pp.neighbors(adata, n_neighbors=10, n_pcs=40)"
   ]
  },
  {
   "cell_type": "markdown",
   "metadata": {},
   "source": [
    "#### Clustering the neighborhood graph\n",
    "\n",
    "Scanpy documentation recommends the Leiden graph-clustering method (community detection based on optimizing modularity) by Traag *et al.* (2018). Note that Leiden clustering (using `resolution=0.5`) directly clusters the neighborhood graph of cells, which we have already computed in the previous section."
   ]
  },
  {
   "cell_type": "code",
   "execution_count": null,
   "metadata": {},
   "outputs": [],
   "source": [
    "sc.tl.leiden(adata,resolution=0.5)"
   ]
  },
  {
   "cell_type": "code",
   "execution_count": null,
   "metadata": {},
   "outputs": [],
   "source": [
    "cluster_length = len(adata.obs['leiden'].value_counts().to_dict().keys())\n",
    "cluster_colors = sns.color_palette('colorblind',cluster_length,as_cmap=True)"
   ]
  },
  {
   "cell_type": "markdown",
   "metadata": {},
   "source": [
    "### Embed the neighborhood graph using 2D UMAP\n",
    "\n",
    "Scanpy documentation suggests embedding the graph in 2 dimensions using UMAP (McInnes et al., 2018), see below. It is potentially more faithful to the global connectivity of the manifold than tSNE, i.e., it better preservers trajectories."
   ]
  },
  {
   "cell_type": "code",
   "execution_count": null,
   "metadata": {},
   "outputs": [],
   "source": [
    "sc.tl.umap(adata,n_components=2)"
   ]
  },
  {
   "cell_type": "code",
   "execution_count": null,
   "metadata": {},
   "outputs": [],
   "source": [
    "gene_name = ['CST3']\n",
    "if 'CST3' not in adata.var_names:\n",
    "  gene_name = [adata.var_names[0]]\n",
    "\n",
    "plt.rcParams['figure.figsize']=(10,8)\n",
    "sc.pl.umap(adata,color=gene_name,size=100)"
   ]
  },
  {
   "cell_type": "markdown",
   "metadata": {},
   "source": [
    "You can replace the `['CST3']` in the previous cell with your preferred list of genes.\n",
    "\n",
    "e.g. `['LTB','IL32','CD3D']`\n",
    "\n",
    "or may be with a Python onliner code to extract gene names with a specific prefix\n",
    "\n",
    "e.g.\n",
    "\n",
    "```python\n",
    "sc.pl.umap(adata, color=[gene for gene in adata.var_names if gene.startswith('CD')], ncols=2)\n",
    "```\n",
    "\n",
    "Plot the scaled and corrected gene expression by `use_raw=False` and color them based on the leiden clusters."
   ]
  },
  {
   "cell_type": "code",
   "execution_count": null,
   "metadata": {},
   "outputs": [],
   "source": [
    "sc.pl.umap(adata,color='leiden',use_raw=False,palette=cluster_colors,size=100)"
   ]
  },
  {
   "cell_type": "markdown",
   "metadata": {},
   "source": [
    "<div align=\"right\"><a href=\"#Table-of-contents\">Go to TOC</a></div>\n",
    "\n",
    "### Finding marker genes\n",
    "\n",
    "Let us compute a ranking for the highly differential genes in each cluster. For this, by default, the `.raw` attribute of AnnData is used in case it has been initialized before. We are using ` Wilcoxon rank-sum test` (Sonison & Robinson (2018) here."
   ]
  },
  {
   "cell_type": "code",
   "execution_count": null,
   "metadata": {},
   "outputs": [],
   "source": [
    "plt.rcParams['figure.figsize']=(6,6)\n",
    "sc.tl.rank_genes_groups(adata, 'leiden', method='wilcoxon')\n",
    "sc.pl.rank_genes_groups(adata, n_genes=20, sharey=False, ncols=2)"
   ]
  },
  {
   "cell_type": "markdown",
   "metadata": {},
   "source": [
    "Show the 10 top ranked genes per cluster 0, 1, …, N in a dataframe"
   ]
  },
  {
   "cell_type": "code",
   "execution_count": null,
   "metadata": {},
   "outputs": [],
   "source": [
    "pd.DataFrame(adata.uns['rank_genes_groups']['names']).head(10)"
   ]
  },
  {
   "cell_type": "markdown",
   "metadata": {},
   "source": [
    "<div align=\"right\"><a href=\"#Table-of-contents\">Go to TOC</a></div>\n",
    "\n",
    "### Cell annotation\n",
    "\n",
    "Downloaded the cell type gene expression markers form [PanglaoDB](https://panglaodb.se/markers.html?cell_type=%27all_cells%27) and generated cell annotation plot"
   ]
  },
  {
   "cell_type": "code",
   "execution_count": null,
   "metadata": {},
   "outputs": [],
   "source": [
    "df = pd.read_csv(cell_marker_list,delimiter='\\t')"
   ]
  },
  {
   "cell_type": "code",
   "execution_count": null,
   "metadata": {},
   "outputs": [],
   "source": [
    "if genome_build.upper() == 'HG38':\n",
    "  print('Selecting human specific genes')\n",
    "  markers_df = df[(df['species'] == 'Hs') | (df['species'] == 'Mm Hs')]\n",
    "elif genome_build.upper() =='MM10':\n",
    "  print('Selecting mouse specific genes')\n",
    "  markers_df = df[(df['species'] == 'Mm') | (df['species'] == 'Mm Hs')]\n",
    "else:\n",
    "  raise ValueError('Species {0} not supported'.format(genome_build))\n",
    "markers_df.shape"
   ]
  },
  {
   "cell_type": "markdown",
   "metadata": {},
   "source": [
    "Collect the unique cell type list"
   ]
  },
  {
   "cell_type": "code",
   "execution_count": null,
   "metadata": {},
   "outputs": [],
   "source": [
    "cell_types = list(markers_df['cell type'].unique())"
   ]
  },
  {
   "cell_type": "markdown",
   "metadata": {},
   "source": [
    "Generate cell annotation using the marker gene list"
   ]
  },
  {
   "cell_type": "code",
   "execution_count": null,
   "metadata": {},
   "outputs": [],
   "source": [
    "markers_dict = {}\n",
    "for ctype in cell_types:\n",
    "    df = markers_df[markers_df['cell type'] == ctype]\n",
    "    markers_dict[ctype] = df['official gene symbol'].to_list()\n",
    "cell_annotation = sc.tl.marker_gene_overlap(adata, markers_dict, key='rank_genes_groups',top_n_markers=20)\n",
    "cell_annotation_norm = sc.tl.marker_gene_overlap(adata, markers_dict, key='rank_genes_groups', normalize='reference',top_n_markers=20)"
   ]
  },
  {
   "cell_type": "code",
   "execution_count": null,
   "metadata": {},
   "outputs": [],
   "source": [
    "plt.rcParams['figure.figsize']=(10,10)\n",
    "sns.heatmap(cell_annotation_norm.loc[cell_annotation_norm.sum(axis=1) > 0.05,], cbar=False, annot=True)"
   ]
  },
  {
   "cell_type": "markdown",
   "metadata": {},
   "source": [
    "<div align=\"right\"><a href=\"#Table-of-contents\">Go to TOC</a></div>\n",
    "\n",
    "## VDJ data analysis\n",
    "\n",
    "### TCR quality control\n",
    "\n",
    "While most of T cell receptors have exactly one pair of α and β chains, up to one third of T cells can have dual TCRs, i.e. two pairs of receptors originating from different alleles. \n",
    "\n",
    "Using the `scirpy.tl.chain_qc()` function, we can add a summary about the T cell receptor compositions to `adata.obs`.\n",
    "\n",
    "__Chain pairing:__\n",
    "* Orphan chain refers to cells that have either a single alpha or beta receptor chain.\n",
    "* Extra chain refers to cells that have a full alpha/beta receptor pair, and an additional chain.\n",
    "* Multichain refers to cells with more than two receptor pairs detected. These cells are likely doublets.\n"
   ]
  },
  {
   "cell_type": "code",
   "execution_count": null,
   "metadata": {},
   "outputs": [],
   "source": [
    "ir.tl.chain_qc(adata)"
   ]
  },
  {
   "cell_type": "markdown",
   "metadata": {},
   "source": [
    "Following plot shows the receptor types"
   ]
  },
  {
   "cell_type": "code",
   "execution_count": null,
   "metadata": {},
   "outputs": [],
   "source": [
    "ir.pl.group_abundance(adata, groupby=\"receptor_type\", target_col=\"leiden\")"
   ]
  },
  {
   "cell_type": "markdown",
   "metadata": {},
   "source": [
    "Use `groupby=\"receptor_subtype\"` to check receptor subtypes, e.g. if the dataset contains only α/β T-cell receptor"
   ]
  },
  {
   "cell_type": "code",
   "execution_count": null,
   "metadata": {},
   "outputs": [],
   "source": [
    "ir.pl.group_abundance(adata, groupby=\"receptor_subtype\", target_col=\"leiden\")"
   ]
  },
  {
   "cell_type": "markdown",
   "metadata": {},
   "source": [
    "Checking for chain pairing"
   ]
  },
  {
   "cell_type": "code",
   "execution_count": null,
   "metadata": {},
   "outputs": [],
   "source": [
    "ir.pl.group_abundance(adata, groupby=\"chain_pairing\", target_col=\"leiden\")"
   ]
  },
  {
   "cell_type": "markdown",
   "metadata": {},
   "source": [
    "Check the fraction of productive T-cell receptors:"
   ]
  },
  {
   "cell_type": "code",
   "execution_count": null,
   "metadata": {},
   "outputs": [],
   "source": [
    "print(\n",
    "    \"Fraction of cells with more than one pair of TCRs: {0}\".format(\n",
    "        np.sum(\n",
    "            adata.obs[\"chain_pairing\"].isin(\n",
    "                [\"extra VJ\", \"extra VDJ\", \"two full chains\"]\n",
    "            )\n",
    "        )\n",
    "        / adata.n_obs\n",
    "    )\n",
    ")"
   ]
  },
  {
   "cell_type": "markdown",
   "metadata": {},
   "source": [
    "Visualize the Multichain cells on the UMAP plot and exclude them from downstream analysis:"
   ]
  },
  {
   "cell_type": "code",
   "execution_count": null,
   "metadata": {},
   "outputs": [],
   "source": [
    "plt.rcParams['figure.figsize']=(10,8)\n",
    "sc.pl.umap(adata, color=\"multi_chain\")"
   ]
  },
  {
   "cell_type": "code",
   "execution_count": null,
   "metadata": {},
   "outputs": [],
   "source": [
    "adata = adata[adata.obs[\"multi_chain\"] != \"True\", :].copy()"
   ]
  },
  {
   "cell_type": "code",
   "execution_count": null,
   "metadata": {},
   "outputs": [],
   "source": [
    "sc.pl.umap(adata, color='leiden',use_raw=False,palette=sc.pl.palettes.default_102)"
   ]
  },
  {
   "cell_type": "code",
   "execution_count": null,
   "metadata": {},
   "outputs": [],
   "source": [
    "plt.rcParams['figure.figsize']=(8,6)\n",
    "sc.pl.umap(adata, color=[\"has_ir\", \"CD3E\"])"
   ]
  },
  {
   "cell_type": "markdown",
   "metadata": {},
   "source": [
    "<div align=\"right\"><a href=\"#Table-of-contents\">Go to TOC</a></div>\n",
    "\n",
    "### Compute CDR3 neighborhood graph and define clonotypes\n",
    "\n",
    "`scirpy.pp.ir_neighbors()` computes a neighborhood graph based on CDR3 nucleotide (`nt`) or amino acid (`aa`) sequences, either based on sequence identity or similarity. Here, we define clonotypes based on `nt-sequenc`e identity."
   ]
  },
  {
   "cell_type": "code",
   "execution_count": null,
   "metadata": {},
   "outputs": [],
   "source": [
    "ir.pp.ir_neighbors(adata, receptor_arms=\"all\",sequence='nt', dual_ir=\"primary_only\")"
   ]
  },
  {
   "cell_type": "code",
   "execution_count": null,
   "metadata": {},
   "outputs": [],
   "source": [
    "Define clonotypes by nucleotide sequence identity."
   ]
  },
  {
   "cell_type": "code",
   "execution_count": null,
   "metadata": {},
   "outputs": [],
   "source": [
    "ir.tl.define_clonotypes(adata)"
   ]
  },
  {
   "cell_type": "markdown",
   "metadata": {},
   "source": [
    "Using `scirpy.tl.clonotype_network()` to compute the positions of cells in clonotype network and plot them colored by different parameters. Its recommended to set the min_size parameter to >=2, to prevent the singleton clonotypes from cluttering the network."
   ]
  },
  {
   "cell_type": "code",
   "execution_count": null,
   "metadata": {},
   "outputs": [],
   "source": [
    "ir.tl.clonotype_network(adata, min_size=2)\n",
    "ir.pl.clonotype_network(adata, color=\"clonotype\", legend_loc=\"none\")"
   ]
  },
  {
   "cell_type": "markdown",
   "metadata": {},
   "source": [
    "<div align=\"right\"><a href=\"#Table-of-contents\">Go to TOC</a></div>\n",
    "\n",
    "### Re-compute CDR3 neighborhood graph and define clonotype clusters\n",
    "\n",
    "Now we re-compute the neighborhood graph based on amino-acid sequence similarity and define clonotype clusters. We are setting `metric=\"alignment\"` and specifying a cutoff parameter. The distance is based on the BLOSUM62 matrix. All cells with a distance between their CDR3 sequences lower than `cutoff` will be connected in the network."
   ]
  },
  {
   "cell_type": "code",
   "execution_count": null,
   "metadata": {},
   "outputs": [],
   "source": [
    "ir.pp.ir_neighbors(\n",
    "    adata,\n",
    "    metric=\"alignment\",\n",
    "    sequence=\"aa\",\n",
    "    cutoff=15,\n",
    "    receptor_arms=\"all\",\n",
    "    dual_ir=\"all\",\n",
    ")\n",
    "ir.tl.define_clonotype_clusters(\n",
    "    adata, partitions=\"connected\", sequence=\"aa\", metric=\"alignment\", within_group=None\n",
    ")"
   ]
  },
  {
   "cell_type": "code",
   "execution_count": null,
   "metadata": {},
   "outputs": [],
   "source": [
    "ir.tl.clonotype_network(adata, min_size=4, sequence=\"aa\", metric=\"alignment\")"
   ]
  },
  {
   "cell_type": "code",
   "execution_count": null,
   "metadata": {},
   "outputs": [],
   "source": [
    "ir.pl.clonotype_network(\n",
    "    adata,\n",
    "    color=\"ct_cluster_aa_alignment\",\n",
    "    legend_fontoutline=3,\n",
    "    size=80,\n",
    "    panel_size=(10, 9),\n",
    "    legend_loc=\"on data\"\n",
    ")"
   ]
  },
  {
   "cell_type": "markdown",
   "metadata": {},
   "source": [
    "<div align=\"right\"><a href=\"#Table-of-contents\">Go to TOC</a></div>\n",
    "\n",
    "### Including the V-gene in clonotype definition\n",
    "\n",
    "Using the paramter use_v_gene in `define_clonotypes()` , we can enforce clonotypes (or clonotype clusters) to have the same V-gene, and, therefore, the same CDR1 and 2 regions. Let’s look for clonotype clusters with different V genes:"
   ]
  },
  {
   "cell_type": "code",
   "execution_count": null,
   "metadata": {},
   "outputs": [],
   "source": [
    "ir.tl.define_clonotype_clusters(\n",
    "    adata,\n",
    "    sequence=\"aa\",\n",
    "    metric=\"alignment\",\n",
    "    same_v_gene=\"primary_only\",\n",
    "    key_added=\"ct_cluster_aa_alignment_same_v\",\n",
    ")"
   ]
  },
  {
   "cell_type": "code",
   "execution_count": null,
   "metadata": {},
   "outputs": [],
   "source": [
    "# find clonotypes with more than one `clonotype_same_v`\n",
    "ct_different_v = adata.obs.groupby(\"ct_cluster_aa_alignment\").apply(\n",
    "    lambda x: x[\"ct_cluster_aa_alignment_same_v\"].unique().size > 1\n",
    ")\n",
    "ct_different_v = ct_different_v[ct_different_v].index.values\n",
    "ct_different_v"
   ]
  },
  {
   "cell_type": "code",
   "execution_count": null,
   "metadata": {},
   "outputs": [],
   "source": [
    "# Display the first 2 clonotypes with different v genes\n",
    "adata.obs.loc[\n",
    "    adata.obs[\"ct_cluster_aa_alignment\"].isin(ct_different_v[:2]),\n",
    "    [\n",
    "        \"ct_cluster_aa_alignment\",\n",
    "        \"ct_cluster_aa_alignment_same_v\",\n",
    "        \"IR_VJ_1_v_gene\",\n",
    "        \"IR_VDJ_1_v_gene\",\n",
    "    ],\n",
    "].sort_values(\"ct_cluster_aa_alignment\").drop_duplicates().reset_index(drop=True)"
   ]
  },
  {
   "cell_type": "markdown",
   "metadata": {},
   "source": [
    "<div align=\"right\"><a href=\"#Table-of-contents\">Go to TOC</a></div>\n",
    "\n",
    "### Clonotype analysis\n",
    "\n",
    "#### Clonal expansion\n",
    "\n",
    "Visualize the number of expanded clonotypes (i.e. clonotypes consisting of more than one cell) by cell-type. The first option is to add a column with the `scirpy.tl.clonal_expansion()` to adata.obs and overlay it on the UMAP plot.\n",
    "\n",
    "Clonal_expansion refers to expansion categories, i.e singleton clonotypes, clonotypes with 2 cells and more than 2 cells. The clonotype_size refers to the absolute number of cells in a clonotype."
   ]
  },
  {
   "cell_type": "code",
   "execution_count": null,
   "metadata": {},
   "outputs": [],
   "source": [
    "ir.tl.clonal_expansion(adata)"
   ]
  },
  {
   "cell_type": "code",
   "execution_count": null,
   "metadata": {},
   "outputs": [],
   "source": [
    "sc.pl.umap(adata, color=[\"clonal_expansion\", \"clonotype_size\"])"
   ]
  },
  {
   "cell_type": "markdown",
   "metadata": {},
   "source": [
    "The second option is to show the number of cells belonging to an expanded clonotype per category in a stacked bar plot, using the `scirpy.pl.clonal_expansion()` plotting function."
   ]
  },
  {
   "cell_type": "code",
   "execution_count": null,
   "metadata": {},
   "outputs": [],
   "source": [
    "ir.pl.clonal_expansion(adata, groupby=\"leiden\", clip_at=4, normalize=False,figsize=(8,6))"
   ]
  },
  {
   "cell_type": "markdown",
   "metadata": {},
   "source": [
    "The same plot, normalized to cluster size. Clonal expansion is a sign of positive selection for a certain, reactive T-cell clone. "
   ]
  },
  {
   "cell_type": "code",
   "execution_count": null,
   "metadata": {},
   "outputs": [],
   "source": [
    "ir.pl.clonal_expansion(adata, groupby=\"leiden\", clip_at=4, normalize=True,figsize=(8,6))"
   ]
  },
  {
   "cell_type": "markdown",
   "metadata": {},
   "source": [
    "Checking alpha diversity per cluster using `scirpy.pl.alpha_diversity()` of clonotypes."
   ]
  },
  {
   "cell_type": "code",
   "execution_count": null,
   "metadata": {},
   "outputs": [],
   "source": [
    "ir.pl.alpha_diversity(adata, groupby=\"leiden\",figsize=(8,6))"
   ]
  },
  {
   "cell_type": "markdown",
   "metadata": {},
   "source": [
    "<div align=\"right\"><a href=\"#Table-of-contents\">Go to TOC</a></div>\n",
    "\n",
    "#### Clonotype abundance\n",
    "\n",
    "The function `scirpy.pl.group_abundance()` allows us to create bar charts for arbitrary categorial from obs. Here, we use it to show the distribution of the ten largest clonotypes across the cell-type clusters."
   ]
  },
  {
   "cell_type": "code",
   "execution_count": null,
   "metadata": {},
   "outputs": [],
   "source": [
    "ir.pl.group_abundance(adata, groupby=\"clonotype\", target_col=\"leiden\", max_cols=20,figsize=(8,6))"
   ]
  },
  {
   "cell_type": "markdown",
   "metadata": {},
   "source": [
    "It might be beneficial to normalize the counts to the number of cells per sample to mitigate biases due to different sample sizes:"
   ]
  },
  {
   "cell_type": "code",
   "execution_count": null,
   "metadata": {},
   "outputs": [],
   "source": [
    "ir.pl.group_abundance(\n",
    "    adata, groupby=\"clonotype\", target_col=\"leiden\", max_cols=20, figsize=(8,6)\n",
    ")"
   ]
  },
  {
   "cell_type": "markdown",
   "metadata": {},
   "source": [
    "<div align=\"right\"><a href=\"#Table-of-contents\">Go to TOC</a></div>\n",
    "\n",
    "### Gene usage\n",
    "\n",
    "`scirpy.tl.group_abundance()` can also give us some information on VDJ usage. We can choose any of the `{TRA,TRB}_{1,2}_{v,d,j,c}_gene` columns to make a stacked bar plot. We use max_col to limit the plot to the 10 most abundant V-genes.\n",
    "\n",
    "Plotting `gene_abundance` for all the non-zero `{TRA,TRB}_{1,2}_{v,d,j,c}_gene`"
   ]
  },
  {
   "cell_type": "code",
   "execution_count": null,
   "metadata": {},
   "outputs": [],
   "source": [
    "ir_v_genes_list = [\n",
    "  i for i in list(adata.obs.columns)\n",
    "    if i.startswith('IR_V') and i.endswith('_gene')]\n",
    "filtered_ir_v_genes_list = list()\n",
    "for i in ir_v_genes_list:\n",
    "  if adata.obs[i].shape[0] > adata.obs[i].isna().sum():\n",
    "    filtered_ir_v_genes_list.append(i)"
   ]
  },
  {
   "cell_type": "code",
   "execution_count": null,
   "metadata": {},
   "outputs": [],
   "source": [
    "for i in range(len(filtered_ir_v_genes_list)):\n",
    "  ir.pl.group_abundance(\n",
    "      adata,\n",
    "      groupby=filtered_ir_v_genes_list[i],\n",
    "      target_col=\"leiden\",\n",
    "      normalize=True,\n",
    "      max_cols=20,\n",
    "      fig_kws={'figsize':(10,8)})"
   ]
  },
  {
   "cell_type": "markdown",
   "metadata": {},
   "source": [
    "The exact combinations of VDJ genes can be visualized as a Sankey-plot using `scirpy.pl.vdj_usage()`."
   ]
  },
  {
   "cell_type": "code",
   "execution_count": null,
   "metadata": {},
   "outputs": [],
   "source": [
    "ir.pl.vdj_usage(adata, full_combination=False, max_segments=None, max_ribbons=20,fig_kws={'figsize':(10,8)})"
   ]
  },
  {
   "cell_type": "markdown",
   "metadata": {},
   "source": [
    "<div align=\"right\"><a href=\"#Table-of-contents\">Go to TOC</a></div>\n",
    "\n",
    "### Spectratype plots\n",
    "\n",
    "`spectratype()` plots give us information about the length distribution of CDR3 regions."
   ]
  },
  {
   "cell_type": "code",
   "execution_count": null,
   "metadata": {},
   "outputs": [],
   "source": [
    "ir.pl.spectratype(adata, color=\"leiden\", viztype=\"bar\", fig_kws={\"dpi\": 120})"
   ]
  },
  {
   "cell_type": "markdown",
   "metadata": {},
   "source": [
    "The same chart visualized as “ridge”-plot:"
   ]
  },
  {
   "cell_type": "code",
   "execution_count": null,
   "metadata": {},
   "outputs": [],
   "source": [
    "ir.pl.spectratype(\n",
    "    adata,\n",
    "    color=\"leiden\",\n",
    "    viztype=\"curve\",\n",
    "    curve_layout=\"shifted\",\n",
    "    fig_kws={\"dpi\": 120},\n",
    "    kde_kws={\"kde_norm\": False},\n",
    ")"
   ]
  },
  {
   "cell_type": "markdown",
   "metadata": {},
   "source": [
    "<div align=\"right\"><a href=\"#Table-of-contents\">Go to TOC</a></div>\n",
    "\n",
    "## References\n",
    "* [Analysis of 3k T cells from cancer](https://icbi-lab.github.io/scirpy/tutorials/tutorial_3k_tcr.html)\n",
    "* [Scanpy - Preprocessing and clustering 3k PBMCs](https://scanpy-tutorials.readthedocs.io/en/latest/pbmc3k.html)\n",
    "* [single-cell-tutorial](https://github.com/theislab/single-cell-tutorial)\n",
    "\n",
    "## Acknowledgement\n",
    "The Imperial BRC Genomics Facility is supported by NIHR funding to the Imperial Biomedical Research Centre."
   ]
  },
  {
   "cell_type": "code",
   "execution_count": null,
   "metadata": {},
   "outputs": [],
   "source": []
  }
 ],
 "metadata": {
  "kernelspec": {
   "display_name": "Python 3",
   "language": "python",
   "name": "python3"
  },
  "language_info": {
   "codemirror_mode": {
    "name": "ipython",
    "version": 3
   },
   "file_extension": ".py",
   "mimetype": "text/x-python",
   "name": "python",
   "nbconvert_exporter": "python",
   "pygments_lexer": "ipython3",
   "version": "3.6.9"
  }
 },
 "nbformat": 4,
 "nbformat_minor": 4
}
